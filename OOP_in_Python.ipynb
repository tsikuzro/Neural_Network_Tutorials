{
  "nbformat": 4,
  "nbformat_minor": 0,
  "metadata": {
    "colab": {
      "provenance": [],
      "collapsed_sections": []
    },
    "kernelspec": {
      "name": "python3",
      "display_name": "Python 3"
    },
    "language_info": {
      "name": "python"
    }
  },
  "cells": [
    {
      "cell_type": "code",
      "execution_count": 9,
      "metadata": {
        "colab": {
          "base_uri": "https://localhost:8080/"
        },
        "id": "WF8YwBk4sPh3",
        "outputId": "7bd6c776-b70c-491f-e495-3e6ee9a761c7"
      },
      "outputs": [
        {
          "output_type": "stream",
          "name": "stdout",
          "text": [
            "Bark\n",
            "<class '__main__.Dog'>\n"
          ]
        }
      ],
      "source": [
        "class Dog:            #defining the class\n",
        "  def bark(self):     #defining a method or function\n",
        "    print(\"Bark\")\n",
        "\n",
        "d = Dog()             #defining a object of a class Dog()\n",
        "#If you need to use the method in class of Dog()\n",
        "#we create an object or instance, d for our case, which uses class Dog\n",
        "#to access the method defined in the class Dog\n",
        "\n",
        "d.bark()\n",
        "\n",
        "print(type(d))        "
      ]
    },
    {
      "cell_type": "markdown",
      "source": [
        "by running the codes above we get the following output \"<class '__main__.Dog'>\" where the \" __ main __\" is a default module of the class"
      ],
      "metadata": {
        "id": "t4uQ4OQg9XzL"
      }
    },
    {
      "cell_type": "markdown",
      "source": [
        "**step1:** Create a class\n",
        "**step2:** Define the methods or functions that can be perfomed with  the class inside the created class"
      ],
      "metadata": {
        "id": "ng5AnhuR99Tb"
      }
    },
    {
      "cell_type": "code",
      "source": [
        "class Dog:            #defining the class\n",
        "  def add_one(self, x):\n",
        "    return x+1\n",
        "\n",
        "  def bark(self):     #defining a method or function\n",
        "    print(\"Bark\")\n",
        "c = Dog()\n",
        "print(c.add_one(3))\n",
        "print(type(c))"
      ],
      "metadata": {
        "colab": {
          "base_uri": "https://localhost:8080/"
        },
        "id": "Bhljr_tJtTLp",
        "outputId": "de0a873c-43b4-437f-bcff-6bca13fe8c6c"
      },
      "execution_count": 13,
      "outputs": [
        {
          "output_type": "stream",
          "name": "stdout",
          "text": [
            "4\n",
            "<class '__main__.Dog'>\n"
          ]
        }
      ]
    },
    {
      "cell_type": "markdown",
      "source": [
        "__ init __ method is created such that every time we called the class with some parameter then such parameter it pass it to __ init __ method.\n",
        "\n",
        "for example, let's say every time you created a Dog class you want to give it a name immediately."
      ],
      "metadata": {
        "id": "EXoB0ZdnP8Fd"
      }
    },
    {
      "cell_type": "code",
      "source": [
        "class Dog:            #defining the class\n",
        "  \n",
        "  def __init__(self, name, age):\n",
        "    self.name = name      #created an attribute or variable to the object\n",
        "    self.age = age \n",
        "  def get_name(self):\n",
        "    return self.name\n",
        "  def get_age(self):\n",
        "    return self.age\n",
        "  def set_age(self):\n",
        "    self.age = age\n",
        "\n",
        "c = Dog(\"Carl\", 15)\n",
        "c1 = Dog(\"Mat\", 4)\n",
        "\n",
        "print(c.get_name())\n",
        "print(c.get_age())"
      ],
      "metadata": {
        "colab": {
          "base_uri": "https://localhost:8080/"
        },
        "id": "wOgWOkuJRIvY",
        "outputId": "c2813ec3-d337-474d-b7e5-c99e3ff74b9f"
      },
      "execution_count": 26,
      "outputs": [
        {
          "output_type": "stream",
          "name": "stdout",
          "text": [
            "Carl\n",
            "15\n"
          ]
        }
      ]
    },
    {
      "cell_type": "markdown",
      "source": [
        "**Student, courses, marks**"
      ],
      "metadata": {
        "id": "HeXRMKOcULGm"
      }
    },
    {
      "cell_type": "code",
      "source": [
        "class Student:\n",
        "  def __init__(self, name, age, grade):\n",
        "    self.name = name\n",
        "    self.age = age\n",
        "    self.grade = grade\n",
        "\n",
        "  def get_grade(self):\n",
        "    return self.grade\n",
        "\n",
        "class Course:\n",
        "  def __init__(self, name, max_students):\n",
        "    self.name = name\n",
        "    self.max_students = max_students\n",
        "    self.students = []   #we need to add student to the course with their marks\n",
        "\n",
        "  def add_student(self, student):\n",
        "    if len(self.students) < self.max_students:\n",
        "      self.students.append(student)\n",
        "      return True\n",
        "    return False\n",
        "\n",
        "  def get_average_grade(self):\n",
        "    value = 0\n",
        "    for student in self.students:\n",
        "      value += student.get_grade()\n",
        "\n",
        "    return value/len(self.students)\n",
        "\n",
        "s1 = Student(\"kaka\", 16, 67)\n",
        "s2 = Student(\"kiki\", 18, 74)\n",
        "s3 = Student(\"dede\", 17, 84)\n",
        "s4 = Student(\"sam\", 21, 54)\n",
        "s5 = Student(\"kris\", 19, 37)\n",
        "\n",
        "course = Course(\"Math\", 3)\n",
        "course.add_student(s2)\n",
        "course.add_student(s4)\n",
        "course.add_student(s1)\n",
        "\n",
        "print(course.get_average_grade())\n",
        "print()"
      ],
      "metadata": {
        "colab": {
          "base_uri": "https://localhost:8080/"
        },
        "id": "etHkiWnkUR_q",
        "outputId": "5f732ede-4440-481e-e9d0-165ac4c91fcb"
      },
      "execution_count": 28,
      "outputs": [
        {
          "output_type": "stream",
          "name": "stdout",
          "text": [
            "65.0\n"
          ]
        }
      ]
    }
  ]
}