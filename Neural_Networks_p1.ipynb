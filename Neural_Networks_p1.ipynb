{
  "nbformat": 4,
  "nbformat_minor": 0,
  "metadata": {
    "colab": {
      "provenance": [],
      "collapsed_sections": []
    },
    "kernelspec": {
      "name": "python3",
      "display_name": "Python 3"
    },
    "language_info": {
      "name": "python"
    }
  },
  "cells": [
    {
      "cell_type": "markdown",
      "source": [
        "**Imagine having full system of neural network, 3 inputs layer, 2 hidden layers with 4 neuron each and three output**"
      ],
      "metadata": {
        "id": "sgATom_Si5H2"
      }
    },
    {
      "cell_type": "markdown",
      "source": [
        "**1. Coding one neuron**\n"
      ],
      "metadata": {
        "id": "IGx3IR0afLS4"
      }
    },
    {
      "cell_type": "markdown",
      "source": [
        "Here we zoom into hidden layer such that:\n",
        "*   Select a single neuron which automatically have 1 bias (like constant)\n",
        "*   selected neuron has 3 inputs neuron with three weights correspond to each input\n",
        "* This will provide only one output\n",
        "\n"
      ],
      "metadata": {
        "id": "_zg3eMVxhwem"
      }
    },
    {
      "cell_type": "code",
      "execution_count": 1,
      "metadata": {
        "colab": {
          "base_uri": "https://localhost:8080/"
        },
        "id": "H_VKjrt-esEH",
        "outputId": "8d332c15-0a51-4b8c-89f5-8097bb763cac"
      },
      "outputs": [
        {
          "output_type": "stream",
          "name": "stdout",
          "text": [
            "35.7\n"
          ]
        }
      ],
      "source": [
        "inputs = [1.2, 5.1, 2.1]\n",
        "weights = [3.1, 2.1, 8.7]\n",
        "bias = 3\n",
        "\n",
        "output = inputs[0]*weights[0] + inputs[1]*weights[1] + inputs[2]*weights[2] + bias\n",
        "\n",
        "print(output)"
      ]
    },
    {
      "cell_type": "markdown",
      "source": [
        "Let's select different neuron in hidden layer such that we add one input neuron on top of the ones we already have"
      ],
      "metadata": {
        "id": "GCwwxflkgM_9"
      }
    },
    {
      "cell_type": "code",
      "source": [
        "inputs = [1, 2, 3, 2.5]\n",
        "weights = [0.2, 0.8, -0.5, 1.0]\n",
        "bias = 2\n",
        "\n",
        "output = inputs[0]*weights[0] + inputs[1]*weights[1] + inputs[2]*weights[2] + inputs[3]*weights[3] + bias\n",
        "\n",
        "print(output)"
      ],
      "metadata": {
        "colab": {
          "base_uri": "https://localhost:8080/"
        },
        "id": "eq6HbLXFgJ_k",
        "outputId": "d9f1174d-3b42-43e4-d593-0a165f1a17ec"
      },
      "execution_count": 2,
      "outputs": [
        {
          "output_type": "stream",
          "name": "stdout",
          "text": [
            "4.8\n"
          ]
        }
      ]
    },
    {
      "cell_type": "markdown",
      "source": [
        "**2. Coding 3 neurons with 4 inputs**"
      ],
      "metadata": {
        "id": "ch1vRfJvlfgi"
      }
    },
    {
      "cell_type": "markdown",
      "source": [
        "\n",
        "\n",
        "*   Inputs remains the same (i.e. 4)\n",
        "*   since we have 3 neuron to code we need 3 different weights and biases, with 1 weight and bias for each output neuron\n",
        "* **N.B.:** To get the best prediction or outputs you need to change the weights and biases\n",
        "\n"
      ],
      "metadata": {
        "id": "67s4lhfXlpls"
      }
    },
    {
      "cell_type": "code",
      "source": [
        "inputs = [1, 2, 3, 2.5]\n",
        "\n",
        "weights1 = [0.2, 0.8, -0.5, 1.0]\n",
        "weights2 = [0.5, -0.91, 0.26, -0.5]\n",
        "weights3 = [-0.26, -0.27, 0.17, 0.87]\n",
        "\n",
        "bias1 = 2\n",
        "bias2 = 3\n",
        "bias3 = 0.5\n",
        "\n",
        "output = [ inputs[0]*weights1[0] + inputs[1]*weights1[1] + inputs[2]*weights1[2] + inputs[3]*weights1[3] + bias1,\n",
        "           inputs[0]*weights2[0] + inputs[1]*weights2[1] + inputs[2]*weights2[2] + inputs[3]*weights2[3] + bias2,\n",
        "          inputs[0]*weights3[0] + inputs[1]*weights3[1] + inputs[2]*weights3[2] + inputs[3]*weights3[3] + bias3]\n",
        "\n",
        "print(output)"
      ],
      "metadata": {
        "colab": {
          "base_uri": "https://localhost:8080/"
        },
        "id": "JP30yrKNl3mS",
        "outputId": "37638f96-3557-4c31-c09c-b445f87b3287"
      },
      "execution_count": 3,
      "outputs": [
        {
          "output_type": "stream",
          "name": "stdout",
          "text": [
            "[4.8, 1.21, 2.385]\n"
          ]
        }
      ]
    },
    {
      "cell_type": "markdown",
      "source": [
        "**3. Coding neuron with loops**"
      ],
      "metadata": {
        "id": "vF7EM-Y6qNzO"
      }
    },
    {
      "cell_type": "markdown",
      "source": [
        "**i.** Use arrays and list to simplify the code"
      ],
      "metadata": {
        "id": "HMCXcGVkqkO-"
      }
    },
    {
      "cell_type": "code",
      "source": [
        "inputs = [1, 2, 3, 2.5]\n",
        "\n",
        "weights = [[0.2, 0.8, -0.5, 1.0], \n",
        "           [0.5, -0.91, 0.26, -0.5],\n",
        "           [-0.26, -0.27, 0.17, 0.87]]\n",
        "\n",
        "biases = [2, 3, 0.5]\n",
        "\n",
        "layer_outputs = []\n",
        "for nueron_weights, nueron_bias in zip(weights, biases):\n",
        "  neuron_output = 0\n",
        "  for n_input, weight in zip(inputs, nueron_weights):\n",
        "      neuron_output += n_input*weight\n",
        "  neuron_output += nueron_bias\n",
        "  layer_outputs.append(neuron_output)\n",
        "  \n",
        "print(layer_outputs)"
      ],
      "metadata": {
        "id": "EJXc9UG9qWTE",
        "colab": {
          "base_uri": "https://localhost:8080/"
        },
        "outputId": "03fc381d-7852-409c-efe2-69ee69263893"
      },
      "execution_count": 4,
      "outputs": [
        {
          "output_type": "stream",
          "name": "stdout",
          "text": [
            "[4.8, 1.21, 2.385]\n"
          ]
        }
      ]
    },
    {
      "cell_type": "markdown",
      "source": [
        "**ii. Use dot product to code one Neuron**"
      ],
      "metadata": {
        "id": "AfvySLV7CRXT"
      }
    },
    {
      "cell_type": "code",
      "source": [
        "import numpy as np\n",
        "\n",
        "inputs = [1, 2, 3, 2.5]\n",
        "weights = [0.2, 0.8, -0.5, 1.0]\n",
        "bias = 2\n",
        "\n",
        "output = np.dot(weights, inputs) + bias\n",
        "print(output)"
      ],
      "metadata": {
        "colab": {
          "base_uri": "https://localhost:8080/"
        },
        "id": "p-dm4SKLCB2j",
        "outputId": "79f374d4-7661-48c9-a916-63e3d56a748c"
      },
      "execution_count": 5,
      "outputs": [
        {
          "output_type": "stream",
          "name": "stdout",
          "text": [
            "4.8\n"
          ]
        }
      ]
    },
    {
      "cell_type": "markdown",
      "source": [
        "**iii. Now let's code 3 neurons using similar approach**"
      ],
      "metadata": {
        "id": "3oE6w3CUDTx3"
      }
    },
    {
      "cell_type": "code",
      "source": [
        "inputs = [1, 2, 3, 2.5]\n",
        "\n",
        "weights = [[0.2, 0.8, -0.5, 1.0], \n",
        "           [0.5, -0.91, 0.26, -0.5],\n",
        "           [-0.26, -0.27, 0.17, 0.87]]\n",
        "\n",
        "biases = [2, 3, 0.5]\n",
        "\n",
        "output = np.dot(weights, inputs) + biases\n",
        "print(output)"
      ],
      "metadata": {
        "colab": {
          "base_uri": "https://localhost:8080/"
        },
        "id": "Nrpuv11MDJ4X",
        "outputId": "60fdadde-f9f8-4aa4-9fea-c7fc78b7c283"
      },
      "execution_count": 6,
      "outputs": [
        {
          "output_type": "stream",
          "name": "stdout",
          "text": [
            "[4.8   1.21  2.385]\n"
          ]
        }
      ]
    },
    {
      "cell_type": "markdown",
      "source": [
        "**4. Batches, a 1 layer**\n",
        "\n",
        "This means Separate datasets (inputs) into parts that will be trained in iterrations (separately)"
      ],
      "metadata": {
        "id": "jTUMH5lHJUrW"
      }
    },
    {
      "cell_type": "code",
      "source": [
        "inputs = [[1.0, 2.0, 3.0, 2.5],\n",
        "          [2.0, 5.0, -1.0, 2.0],\n",
        "          [-1.5, 2.7, 3.3, -0.8]]\n",
        "\n",
        "weights = [[0.2, 0.8, -0.5, 1.0], \n",
        "           [0.5, -0.91, 0.26, -0.5],\n",
        "           [-0.26, -0.27, 0.17, 0.87]]\n",
        "\n",
        "biases = [2, 3, 0.5]\n",
        "\n",
        "output = np.dot(inputs, np.array(weights).T) + biases\n",
        "print(output)"
      ],
      "metadata": {
        "colab": {
          "base_uri": "https://localhost:8080/"
        },
        "id": "69VH9ye3Mfl4",
        "outputId": "87715843-331d-491b-f6ef-17b2464afb0e"
      },
      "execution_count": 7,
      "outputs": [
        {
          "output_type": "stream",
          "name": "stdout",
          "text": [
            "[[ 4.8    1.21   2.385]\n",
            " [ 8.9   -1.81   0.2  ]\n",
            " [ 1.41   1.051  0.026]]\n"
          ]
        }
      ]
    },
    {
      "cell_type": "markdown",
      "source": [
        "**4. Add another layer**"
      ],
      "metadata": {
        "id": "IEsYgSkURqU6"
      }
    },
    {
      "cell_type": "markdown",
      "source": [
        "To add another layer we need to add another set of weights correspond to that layer's neurons"
      ],
      "metadata": {
        "id": "SmAtOROUR2c8"
      }
    },
    {
      "cell_type": "code",
      "source": [
        "inputs = [[1.0, 2.0, 3.0, 2.5],\n",
        "          [2.0, 5.0, -1.0, 2.0],\n",
        "          [-1.5, 2.7, 3.3, -0.8]]\n",
        "\n",
        "weights = [[0.2, 0.8, -0.5, 1.0], \n",
        "           [0.5, -0.91, 0.26, -0.5],\n",
        "           [-0.26, -0.27, 0.17, 0.87]]\n",
        "\n",
        "weights2 = [[0.1, -0.14, 0.5], \n",
        "           [-0.5, 0.12, -0.33],\n",
        "           [-0.44, 0.73, -0.13]]\n",
        "\n",
        "biases = [2, 3, 0.5]\n",
        "biases2 = [-1, 2, -0.5]\n",
        "\n",
        "layer1_outputs = np.dot(inputs, np.array(weights).T) + biases\n",
        "layer2_outputs = np.dot(layer1_outputs, np.array(weights2).T) + biases2\n",
        "print(layer2_outputs)"
      ],
      "metadata": {
        "colab": {
          "base_uri": "https://localhost:8080/"
        },
        "id": "Xkx9RcrMRphg",
        "outputId": "a5f30583-a701-4625-a084-a37f9b13fbff"
      },
      "execution_count": 8,
      "outputs": [
        {
          "output_type": "stream",
          "name": "stdout",
          "text": [
            "[[ 0.5031  -1.04185 -2.03875]\n",
            " [ 0.2434  -2.7332  -5.7633 ]\n",
            " [-0.99314  1.41254 -0.35655]]\n"
          ]
        }
      ]
    },
    {
      "cell_type": "markdown",
      "source": [
        "**5. Introducing OBJECT**"
      ],
      "metadata": {
        "id": "n8Eb3iJoUpZL"
      }
    },
    {
      "cell_type": "markdown",
      "source": [
        "Here to be able to change the size of the hidden layer's neurons we introduce the object for simplification"
      ],
      "metadata": {
        "id": "89qFpsfbUxFz"
      }
    },
    {
      "cell_type": "code",
      "source": [
        "np.random.seed(0)\n",
        "X = [[1.0, 2.0, 3.0, 2.5], \n",
        "          [2.0, 5.0, -1.0, 2.0],\n",
        "          [-1.5, 2.7, 3.3, -0.8]]     #Sample data\n",
        "\n",
        "#Define the two hidden layers\n",
        "\n",
        "class Layer_Dense:\n",
        "  def __init__(self, n_inputs, n_neurons):\n",
        "    self.weights = 0.10 * np.random.randn(n_inputs, n_neurons)\n",
        "    self.biases = np.zeros((1, n_neurons))\n",
        "  def forward(self, inputs):\n",
        "    self.output = np.dot(inputs, self.weights) + self.biases\n",
        "\n",
        "layer1 = Layer_Dense(4,5)\n",
        "layer2 = Layer_Dense(5,2)\n",
        "\n",
        "layer1.forward(X)\n",
        "layer2.forward(layer1.output)\n",
        "\n",
        "print(layer2.output)"
      ],
      "metadata": {
        "id": "-Ei55M4BVP3p",
        "colab": {
          "base_uri": "https://localhost:8080/"
        },
        "outputId": "7270284c-fefd-4909-f325-c01bed7411ab"
      },
      "execution_count": 15,
      "outputs": [
        {
          "output_type": "stream",
          "name": "stdout",
          "text": [
            "[[ 0.148296   -0.08397602]\n",
            " [ 0.14100315 -0.01340469]\n",
            " [ 0.20124979 -0.07290616]]\n"
          ]
        }
      ]
    },
    {
      "cell_type": "markdown",
      "source": [],
      "metadata": {
        "id": "ujfQlErVj2yE"
      }
    }
  ]
}